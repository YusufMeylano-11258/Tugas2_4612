{
  "nbformat": 4,
  "nbformat_minor": 0,
  "metadata": {
    "colab": {
      "name": "preprcessing.ipynb",
      "provenance": [],
      "collapsed_sections": []
    },
    "kernelspec": {
      "name": "python3",
      "display_name": "Python 3"
    },
    "language_info": {
      "name": "python"
    }
  },
  "cells": [
    {
      "cell_type": "code",
      "metadata": {
        "id": "T_fcfjzJUX8v"
      },
      "source": [
        "import numpy as np\n",
        "import matplotlib.pyplot as plt\n",
        "import pandas as pd"
      ],
      "execution_count": null,
      "outputs": []
    },
    {
      "cell_type": "code",
      "metadata": {
        "id": "tI19jllzUZVo"
      },
      "source": [
        "dataset = pd.read_csv('Data.csv')\n",
        "x = dataset.iloc[:, :-1].values\n",
        "y = dataset.iloc[:, -1].values"
      ],
      "execution_count": null,
      "outputs": []
    },
    {
      "cell_type": "code",
      "metadata": {
        "colab": {
          "base_uri": "https://localhost:8080/"
        },
        "id": "dp5fyjY1UfjW",
        "outputId": "aa17793a-f51f-4366-de21-2be4a3b88469"
      },
      "source": [
        "print(x)"
      ],
      "execution_count": null,
      "outputs": [
        {
          "output_type": "stream",
          "text": [
            "[['Elite' 12.0 10000.0]\n",
            " ['Master' 12.0 30000.0]\n",
            " ['Grandmaster' 16.0 65000.0]\n",
            " ['Epic' 25.0 150000.0]\n",
            " ['Legend' 25.0 nan]\n",
            " ['Mythic' nan 20000.0]]\n"
          ],
          "name": "stdout"
        }
      ]
    },
    {
      "cell_type": "code",
      "metadata": {
        "colab": {
          "base_uri": "https://localhost:8080/"
        },
        "id": "M96cQyCCUiQK",
        "outputId": "53511433-a7ef-4c47-e1a4-4879f69eb9cd"
      },
      "source": [
        "print(y)"
      ],
      "execution_count": null,
      "outputs": [
        {
          "output_type": "stream",
          "text": [
            "['Yes' 'Yes' 'Yes' 'Yes' 'No' 'No']\n"
          ],
          "name": "stdout"
        }
      ]
    },
    {
      "cell_type": "code",
      "metadata": {
        "id": "zwcdjOu2UmBT"
      },
      "source": [
        "from sklearn.impute import SimpleImputer\n",
        "imputer = SimpleImputer(missing_values=np.nan, strategy='mean')\n",
        "imputer.fit(x[:, 1:3])\n",
        "x[:, 1:3] = imputer.transform(x[:, 1:3])"
      ],
      "execution_count": null,
      "outputs": []
    },
    {
      "cell_type": "code",
      "metadata": {
        "colab": {
          "base_uri": "https://localhost:8080/"
        },
        "id": "gw3iaNQrU3Ff",
        "outputId": "04a15e37-7094-4f64-c367-ecbf70b7bde4"
      },
      "source": [
        "print(x)"
      ],
      "execution_count": null,
      "outputs": [
        {
          "output_type": "stream",
          "text": [
            "[['Elite' 12.0 10000.0]\n",
            " ['Master' 12.0 30000.0]\n",
            " ['Grandmaster' 16.0 65000.0]\n",
            " ['Epic' 25.0 150000.0]\n",
            " ['Legend' 25.0 55000.0]\n",
            " ['Mythic' 18.0 20000.0]]\n"
          ],
          "name": "stdout"
        }
      ]
    },
    {
      "cell_type": "code",
      "metadata": {
        "id": "G-uNtzE4VBJB"
      },
      "source": [
        "from sklearn.compose import ColumnTransformer\n",
        "from sklearn.preprocessing import OneHotEncoder\n",
        "ct = ColumnTransformer(transformers=[('encoder',OneHotEncoder(),[0])], remainder='passthrough')\n",
        "x = np.array(ct.fit_transform(x))"
      ],
      "execution_count": null,
      "outputs": []
    },
    {
      "cell_type": "code",
      "metadata": {
        "colab": {
          "base_uri": "https://localhost:8080/"
        },
        "id": "OXuPlkgJVn4b",
        "outputId": "38c6a628-ff15-43f8-b3ea-485d0f234a81"
      },
      "source": [
        "print(x)"
      ],
      "execution_count": null,
      "outputs": [
        {
          "output_type": "stream",
          "text": [
            "[[1.0 0.0 0.0 0.0 0.0 0.0 12.0 10000.0]\n",
            " [0.0 0.0 0.0 0.0 1.0 0.0 12.0 30000.0]\n",
            " [0.0 0.0 1.0 0.0 0.0 0.0 16.0 65000.0]\n",
            " [0.0 1.0 0.0 0.0 0.0 0.0 25.0 150000.0]\n",
            " [0.0 0.0 0.0 1.0 0.0 0.0 25.0 55000.0]\n",
            " [0.0 0.0 0.0 0.0 0.0 1.0 18.0 20000.0]]\n"
          ],
          "name": "stdout"
        }
      ]
    },
    {
      "cell_type": "code",
      "metadata": {
        "id": "n91utEHMVsCY"
      },
      "source": [
        "from sklearn.preprocessing import LabelEncoder\n",
        "le = LabelEncoder()\n",
        "y = le.fit_transform(y)"
      ],
      "execution_count": null,
      "outputs": []
    },
    {
      "cell_type": "code",
      "metadata": {
        "colab": {
          "base_uri": "https://localhost:8080/"
        },
        "id": "aEqiev0eV4Gq",
        "outputId": "15de3992-1f3a-4372-f223-e8e8766465c3"
      },
      "source": [
        "print(y)"
      ],
      "execution_count": null,
      "outputs": [
        {
          "output_type": "stream",
          "text": [
            "[1 1 1 1 0 0]\n"
          ],
          "name": "stdout"
        }
      ]
    },
    {
      "cell_type": "code",
      "metadata": {
        "id": "M1aBLRNYV-52"
      },
      "source": [
        "from sklearn.model_selection import train_test_split\n",
        "x_train, x_test, y_train, y_test, = train_test_split(x, y, test_size=0.2, random_state = 1)"
      ],
      "execution_count": null,
      "outputs": []
    },
    {
      "cell_type": "code",
      "metadata": {
        "colab": {
          "base_uri": "https://localhost:8080/"
        },
        "id": "InWF-wL5WQrS",
        "outputId": "a80afa8a-3ec1-4232-bff8-1a3fec93e7e6"
      },
      "source": [
        "print(x_train)"
      ],
      "execution_count": null,
      "outputs": [
        {
          "output_type": "stream",
          "text": [
            "[[0.0 0.0 0.0 1.0 0.0 0.0 25.0 55000.0]\n",
            " [1.0 0.0 0.0 0.0 0.0 0.0 12.0 10000.0]\n",
            " [0.0 1.0 0.0 0.0 0.0 0.0 25.0 150000.0]\n",
            " [0.0 0.0 0.0 0.0 0.0 1.0 18.0 20000.0]]\n"
          ],
          "name": "stdout"
        }
      ]
    },
    {
      "cell_type": "code",
      "metadata": {
        "colab": {
          "base_uri": "https://localhost:8080/"
        },
        "id": "FtzlKQLZWTyK",
        "outputId": "048263a6-6eac-4cad-e3af-cadc47c0619d"
      },
      "source": [
        "print(x_test)"
      ],
      "execution_count": null,
      "outputs": [
        {
          "output_type": "stream",
          "text": [
            "[[0.0 0.0 1.0 0.0 0.0 0.0 16.0 65000.0]\n",
            " [0.0 0.0 0.0 0.0 1.0 0.0 12.0 30000.0]]\n"
          ],
          "name": "stdout"
        }
      ]
    },
    {
      "cell_type": "code",
      "metadata": {
        "colab": {
          "base_uri": "https://localhost:8080/"
        },
        "id": "2a3uc_7gWYwa",
        "outputId": "80199ab4-dcab-49e4-925d-e80114704dcf"
      },
      "source": [
        "print(y_train)"
      ],
      "execution_count": null,
      "outputs": [
        {
          "output_type": "stream",
          "text": [
            "[0 1 1 0]\n"
          ],
          "name": "stdout"
        }
      ]
    },
    {
      "cell_type": "code",
      "metadata": {
        "colab": {
          "base_uri": "https://localhost:8080/"
        },
        "id": "zQuqWPt5Waxq",
        "outputId": "cb2ad465-974a-4587-dbfc-9972f9bfc8a8"
      },
      "source": [
        "print(y_test)"
      ],
      "execution_count": null,
      "outputs": [
        {
          "output_type": "stream",
          "text": [
            "[1 1]\n"
          ],
          "name": "stdout"
        }
      ]
    },
    {
      "cell_type": "code",
      "metadata": {
        "id": "IAJXeV94WikS"
      },
      "source": [
        "from sklearn.preprocessing import StandardScaler\n",
        "sc = StandardScaler()\n",
        "x_train[:, 3:] = sc.fit_transform(x_train[:, 3:])\n",
        "x_test[:, 3:] = sc.transform(x_test[:, 3:])"
      ],
      "execution_count": null,
      "outputs": []
    },
    {
      "cell_type": "code",
      "metadata": {
        "colab": {
          "base_uri": "https://localhost:8080/"
        },
        "id": "atQLJ9FsW8gB",
        "outputId": "d829dbaf-e7fb-4156-ac19-48c2b5b27e1a"
      },
      "source": [
        "print(x_train)"
      ],
      "execution_count": null,
      "outputs": [
        {
          "output_type": "stream",
          "text": [
            "[[0.0 0.0 0.0 1.7320508075688774 0.0 -0.5773502691896258\n",
            "  0.9205746178983234 -0.06784969095478509]\n",
            " [1.0 0.0 0.0 -0.5773502691896258 0.0 -0.5773502691896258\n",
            "  -1.4729193886373175 -0.8820459824122062]\n",
            " [0.0 1.0 0.0 -0.5773502691896258 0.0 -0.5773502691896258\n",
            "  0.9205746178983234 1.6510091465664374]\n",
            " [0.0 0.0 0.0 -0.5773502691896258 0.0 1.7320508075688774\n",
            "  -0.3682298471593294 -0.701113473199446]]\n"
          ],
          "name": "stdout"
        }
      ]
    },
    {
      "cell_type": "code",
      "metadata": {
        "colab": {
          "base_uri": "https://localhost:8080/"
        },
        "id": "7g5nyx0zW_x0",
        "outputId": "5dd1aec3-9d46-4629-fea1-a13d7193f2b6"
      },
      "source": [
        "print(x_test)"
      ],
      "execution_count": null,
      "outputs": [
        {
          "output_type": "stream",
          "text": [
            "[[0.0 0.0 1.0 -0.5773502691896258 0.0 -0.5773502691896258\n",
            "  -0.7364596943186588 0.11308281825797516]\n",
            " [0.0 0.0 0.0 -0.5773502691896258 1.0 -0.5773502691896258\n",
            "  -1.4729193886373175 -0.5201809639866857]]\n"
          ],
          "name": "stdout"
        }
      ]
    }
  ]
}